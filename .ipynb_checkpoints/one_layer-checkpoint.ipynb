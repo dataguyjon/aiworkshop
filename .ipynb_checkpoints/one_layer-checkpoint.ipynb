{
 "cells": [
  {
   "cell_type": "markdown",
   "metadata": {},
   "source": [
    "# MNIST Classification - Single Layer NN"
   ]
  },
  {
   "cell_type": "code",
   "execution_count": 19,
   "metadata": {},
   "outputs": [],
   "source": [
    "import tensorflow as tf\n",
    "from tensorflow.examples.tutorials.mnist import input_data as mnist_data\n",
    "import numpy as np\n",
    "from matplotlib import pyplot as plt\n",
    "tf.set_random_seed(0)"
   ]
  },
  {
   "cell_type": "code",
   "execution_count": 20,
   "metadata": {},
   "outputs": [
    {
     "name": "stdout",
     "output_type": "stream",
     "text": [
      "Extracting data\\train-images-idx3-ubyte.gz\n",
      "Extracting data\\train-labels-idx1-ubyte.gz\n",
      "Extracting data\\t10k-images-idx3-ubyte.gz\n",
      "Extracting data\\t10k-labels-idx1-ubyte.gz\n"
     ]
    }
   ],
   "source": [
    "# download train and test data (28x28 images of handwritten digits)\n",
    "mnist = mnist_data.read_data_sets(\"data\", one_hot=True, reshape=False, validation_size=0)"
   ]
  },
  {
   "cell_type": "code",
   "execution_count": 21,
   "metadata": {},
   "outputs": [],
   "source": [
    "# input X: 28x28 grayscale images, the first dimension (None) will index the images in the mini-batch\n",
    "X = tf.placeholder(tf.float32, [None, 28, 28, 1])\n",
    "# correct answers will go here\n",
    "Y_ = tf.placeholder(tf.float32, [None, 10])\n",
    "# weights W[784, 10]   784=28*28\n",
    "W = tf.Variable(tf.zeros([784, 10]))\n",
    "# biases b[10]\n",
    "b = tf.Variable(tf.zeros([10]))"
   ]
  },
  {
   "cell_type": "code",
   "execution_count": 22,
   "metadata": {},
   "outputs": [],
   "source": [
    "# flatten the images into a single line of pixels\n",
    "# -1 in the shape definition means \"the only possible dimension that will preserve the number of elements\"\n",
    "XX = tf.reshape(X, [-1, 784])"
   ]
  },
  {
   "cell_type": "code",
   "execution_count": 23,
   "metadata": {},
   "outputs": [],
   "source": [
    "# The model\n",
    "Z = tf.matmul(XX, W) + b\n",
    "Y = tf.nn.softmax(Z)"
   ]
  },
  {
   "cell_type": "code",
   "execution_count": 25,
   "metadata": {},
   "outputs": [],
   "source": [
    "cross_entropy = tf.nn.softmax_cross_entropy_with_logits_v2(logits=Z, labels=Y_)\n",
    "cross_entropy = tf.reduce_mean(cross_entropy)*100"
   ]
  },
  {
   "cell_type": "code",
   "execution_count": 26,
   "metadata": {},
   "outputs": [],
   "source": [
    "# accuracy of the trained model, between 0 (worst) and 1 (best)\n",
    "correct_prediction = tf.equal(tf.argmax(Y, 1), tf.argmax(Y_, 1))\n",
    "accuracy = tf.reduce_mean(tf.cast(correct_prediction, tf.float32))"
   ]
  },
  {
   "cell_type": "code",
   "execution_count": 27,
   "metadata": {},
   "outputs": [],
   "source": [
    "# to keep track of max accuracy\n",
    "max_accuracy = 0.0"
   ]
  },
  {
   "cell_type": "code",
   "execution_count": 28,
   "metadata": {},
   "outputs": [],
   "source": [
    "# training, learning rate = 0.005\n",
    "train_step = tf.train.GradientDescentOptimizer(0.005).minimize(cross_entropy)"
   ]
  },
  {
   "cell_type": "code",
   "execution_count": 29,
   "metadata": {},
   "outputs": [],
   "source": [
    "# init\n",
    "init = tf.global_variables_initializer()\n",
    "sess = tf.Session()\n",
    "sess.run(init)\n",
    "\n",
    "train_loss_log = []\n",
    "test_loss_log = []\n",
    "train_accuracy_log = []\n",
    "test_accuracy_log = []"
   ]
  },
  {
   "cell_type": "code",
   "execution_count": 30,
   "metadata": {},
   "outputs": [],
   "source": [
    "# You can call this function in a loop to train the model, 100 images at a time\n",
    "def training_step(i):\n",
    "\n",
    "    global max_accuracy\n",
    "    # training on batches of 100 images with 100 labels\n",
    "    batch_X, batch_Y = mnist.train.next_batch(100)\n",
    "\n",
    "    # compute training values\n",
    "    if (i % 10 == 0):\n",
    "        a, c = sess.run([accuracy, cross_entropy], feed_dict={X: batch_X, Y_: batch_Y})\n",
    "        train_accuracy_log.append([i,a])\n",
    "        train_loss_log.append([i,c])        \n",
    "        print(str(i) + \": accuracy:\" + str(a) + \" loss: \" + str(c))\n",
    "\n",
    "    # compute test values\n",
    "    if (i % 50 == 0):\n",
    "        a, c = sess.run([accuracy, cross_entropy], feed_dict={X: mnist.test.images, Y_: mnist.test.labels})\n",
    "        test_accuracy_log.append([i,a])\n",
    "        test_loss_log.append([i,c])  \n",
    "        if (a > max_accuracy):\n",
    "            max_accuracy = a\n",
    "\n",
    "        print(str(i) + \": $$$$$$$$$$$$$$$$$$$$$$$$ test accuracy:\" + str(a) + \" test loss: \" + str(c))\n",
    "\n",
    "    # the backpropagation training step\n",
    "    sess.run(train_step, feed_dict={X: batch_X, Y_: batch_Y})"
   ]
  },
  {
   "cell_type": "code",
   "execution_count": 31,
   "metadata": {},
   "outputs": [
    {
     "name": "stdout",
     "output_type": "stream",
     "text": [
      "0: accuracy:0.12 loss: 230.25853\n",
      "0: $$$$$$$$$$$$$$$$$$$$$$$$ test accuracy:0.098 test loss: 230.25717\n",
      "10: accuracy:0.83 loss: 79.80014\n",
      "20: accuracy:0.78 loss: 67.31489\n",
      "30: accuracy:0.81 loss: 56.81697\n",
      "40: accuracy:0.86 loss: 46.953423\n",
      "50: accuracy:0.87 loss: 45.26821\n",
      "50: $$$$$$$$$$$$$$$$$$$$$$$$ test accuracy:0.8844 test loss: 43.806767\n",
      "60: accuracy:0.88 loss: 44.120205\n",
      "70: accuracy:0.87 loss: 51.112354\n",
      "80: accuracy:0.83 loss: 49.77597\n",
      "90: accuracy:0.89 loss: 46.423023\n",
      "100: accuracy:0.96 loss: 26.21822\n",
      "100: $$$$$$$$$$$$$$$$$$$$$$$$ test accuracy:0.8957 test loss: 38.26991\n",
      "110: accuracy:0.89 loss: 45.008816\n",
      "120: accuracy:0.87 loss: 56.37574\n",
      "130: accuracy:0.93 loss: 28.819355\n",
      "140: accuracy:0.92 loss: 33.3647\n",
      "150: accuracy:0.86 loss: 40.54546\n",
      "150: $$$$$$$$$$$$$$$$$$$$$$$$ test accuracy:0.897 test loss: 36.479397\n",
      "160: accuracy:0.91 loss: 31.417456\n",
      "170: accuracy:0.87 loss: 48.12224\n",
      "180: accuracy:0.91 loss: 43.438354\n",
      "190: accuracy:0.86 loss: 51.654755\n",
      "200: accuracy:0.91 loss: 43.564365\n",
      "200: $$$$$$$$$$$$$$$$$$$$$$$$ test accuracy:0.899 test loss: 35.580284\n",
      "210: accuracy:0.91 loss: 30.85138\n",
      "220: accuracy:0.91 loss: 37.509193\n",
      "230: accuracy:0.86 loss: 48.209396\n",
      "240: accuracy:0.88 loss: 36.873875\n",
      "250: accuracy:0.91 loss: 27.021145\n",
      "250: $$$$$$$$$$$$$$$$$$$$$$$$ test accuracy:0.9088 test loss: 32.33477\n",
      "260: accuracy:0.92 loss: 30.758991\n",
      "270: accuracy:0.83 loss: 54.557896\n",
      "280: accuracy:0.84 loss: 52.68442\n",
      "290: accuracy:0.88 loss: 29.501587\n",
      "300: accuracy:0.91 loss: 35.053925\n",
      "300: $$$$$$$$$$$$$$$$$$$$$$$$ test accuracy:0.908 test loss: 32.498528\n",
      "310: accuracy:0.92 loss: 34.592648\n",
      "320: accuracy:0.88 loss: 33.58424\n",
      "330: accuracy:0.92 loss: 33.920116\n",
      "340: accuracy:0.91 loss: 38.212616\n",
      "350: accuracy:0.96 loss: 18.170544\n",
      "350: $$$$$$$$$$$$$$$$$$$$$$$$ test accuracy:0.9098 test loss: 32.24368\n",
      "360: accuracy:0.97 loss: 18.401789\n",
      "370: accuracy:0.92 loss: 31.779205\n",
      "380: accuracy:0.94 loss: 26.715126\n",
      "390: accuracy:0.92 loss: 29.681551\n",
      "400: accuracy:0.88 loss: 40.790276\n",
      "400: $$$$$$$$$$$$$$$$$$$$$$$$ test accuracy:0.9062 test loss: 32.600964\n",
      "410: accuracy:0.9 loss: 36.75657\n",
      "420: accuracy:0.92 loss: 26.982243\n",
      "430: accuracy:0.9 loss: 31.105371\n",
      "440: accuracy:0.88 loss: 36.29364\n",
      "450: accuracy:0.92 loss: 43.62916\n",
      "450: $$$$$$$$$$$$$$$$$$$$$$$$ test accuracy:0.9109 test loss: 31.392305\n",
      "460: accuracy:0.95 loss: 20.407104\n",
      "470: accuracy:0.88 loss: 52.722\n",
      "480: accuracy:0.92 loss: 31.642305\n",
      "490: accuracy:0.85 loss: 41.210857\n",
      "500: accuracy:0.95 loss: 22.038574\n",
      "500: $$$$$$$$$$$$$$$$$$$$$$$$ test accuracy:0.9085 test loss: 31.34817\n",
      "510: accuracy:0.91 loss: 30.678791\n",
      "520: accuracy:0.88 loss: 41.62014\n",
      "530: accuracy:0.93 loss: 26.995897\n",
      "540: accuracy:0.91 loss: 26.851671\n",
      "550: accuracy:0.92 loss: 23.268816\n",
      "550: $$$$$$$$$$$$$$$$$$$$$$$$ test accuracy:0.9121 test loss: 30.951435\n",
      "560: accuracy:0.96 loss: 19.48253\n",
      "570: accuracy:0.89 loss: 31.683496\n",
      "580: accuracy:0.89 loss: 33.918507\n",
      "590: accuracy:0.85 loss: 44.764988\n",
      "600: accuracy:0.92 loss: 33.613033\n",
      "600: $$$$$$$$$$$$$$$$$$$$$$$$ test accuracy:0.915 test loss: 30.518936\n",
      "610: accuracy:0.93 loss: 22.293575\n",
      "620: accuracy:0.89 loss: 31.618803\n",
      "630: accuracy:0.9 loss: 33.45929\n",
      "640: accuracy:0.91 loss: 24.668703\n",
      "650: accuracy:0.89 loss: 32.86015\n",
      "650: $$$$$$$$$$$$$$$$$$$$$$$$ test accuracy:0.9137 test loss: 30.686098\n",
      "660: accuracy:0.87 loss: 41.79635\n",
      "670: accuracy:0.93 loss: 20.472233\n",
      "680: accuracy:0.94 loss: 32.997227\n",
      "690: accuracy:0.89 loss: 34.09325\n",
      "700: accuracy:0.89 loss: 35.41728\n",
      "700: $$$$$$$$$$$$$$$$$$$$$$$$ test accuracy:0.9093 test loss: 32.07422\n",
      "710: accuracy:0.96 loss: 12.649861\n",
      "720: accuracy:0.9 loss: 31.839561\n",
      "730: accuracy:0.94 loss: 21.127125\n",
      "740: accuracy:0.89 loss: 32.45627\n",
      "750: accuracy:0.92 loss: 30.835556\n",
      "750: $$$$$$$$$$$$$$$$$$$$$$$$ test accuracy:0.9165 test loss: 29.97446\n",
      "760: accuracy:0.89 loss: 45.66104\n",
      "770: accuracy:0.93 loss: 23.618378\n",
      "780: accuracy:0.94 loss: 21.731808\n",
      "790: accuracy:0.86 loss: 43.51223\n",
      "800: accuracy:0.87 loss: 41.682472\n",
      "800: $$$$$$$$$$$$$$$$$$$$$$$$ test accuracy:0.9146 test loss: 29.55736\n",
      "810: accuracy:0.93 loss: 20.260897\n",
      "820: accuracy:0.92 loss: 25.149832\n",
      "830: accuracy:0.88 loss: 40.207397\n",
      "840: accuracy:0.93 loss: 37.550896\n",
      "850: accuracy:0.91 loss: 31.40003\n",
      "850: $$$$$$$$$$$$$$$$$$$$$$$$ test accuracy:0.9193 test loss: 29.356512\n",
      "860: accuracy:0.94 loss: 18.311474\n",
      "870: accuracy:0.91 loss: 28.543365\n",
      "880: accuracy:0.93 loss: 18.600296\n",
      "890: accuracy:0.92 loss: 30.510727\n",
      "900: accuracy:0.91 loss: 22.701622\n",
      "900: $$$$$$$$$$$$$$$$$$$$$$$$ test accuracy:0.9186 test loss: 29.079735\n",
      "910: accuracy:0.91 loss: 33.560944\n",
      "920: accuracy:0.93 loss: 26.225767\n",
      "930: accuracy:0.87 loss: 34.62408\n",
      "940: accuracy:0.89 loss: 36.58843\n",
      "950: accuracy:0.92 loss: 27.31283\n",
      "950: $$$$$$$$$$$$$$$$$$$$$$$$ test accuracy:0.9114 test loss: 30.757374\n",
      "960: accuracy:0.89 loss: 34.056244\n",
      "970: accuracy:0.91 loss: 33.776993\n",
      "980: accuracy:0.9 loss: 33.236256\n",
      "990: accuracy:0.94 loss: 15.838165\n",
      "1000: accuracy:0.95 loss: 18.593546\n",
      "1000: $$$$$$$$$$$$$$$$$$$$$$$$ test accuracy:0.9174 test loss: 29.289305\n",
      "1010: accuracy:0.94 loss: 31.30418\n",
      "1020: accuracy:0.91 loss: 27.96388\n",
      "1030: accuracy:0.95 loss: 23.71073\n",
      "1040: accuracy:0.86 loss: 38.142082\n",
      "1050: accuracy:0.91 loss: 41.100986\n",
      "1050: $$$$$$$$$$$$$$$$$$$$$$$$ test accuracy:0.9185 test loss: 28.748861\n",
      "1060: accuracy:0.95 loss: 17.064016\n",
      "1070: accuracy:0.9 loss: 38.996014\n",
      "1080: accuracy:0.84 loss: 56.612545\n",
      "1090: accuracy:0.93 loss: 26.788067\n",
      "1100: accuracy:0.91 loss: 25.23894\n",
      "1100: $$$$$$$$$$$$$$$$$$$$$$$$ test accuracy:0.9201 test loss: 28.445854\n",
      "1110: accuracy:0.89 loss: 44.857563\n",
      "1120: accuracy:0.9 loss: 31.93107\n",
      "1130: accuracy:0.95 loss: 12.163866\n",
      "1140: accuracy:0.87 loss: 39.35408\n",
      "1150: accuracy:0.91 loss: 27.693983\n",
      "1150: $$$$$$$$$$$$$$$$$$$$$$$$ test accuracy:0.9215 test loss: 28.72482\n",
      "1160: accuracy:0.97 loss: 21.4968\n",
      "1170: accuracy:0.92 loss: 28.0636\n",
      "1180: accuracy:0.94 loss: 20.268986\n",
      "1190: accuracy:0.91 loss: 31.403183\n",
      "1200: accuracy:0.97 loss: 15.859337\n",
      "1200: $$$$$$$$$$$$$$$$$$$$$$$$ test accuracy:0.9201 test loss: 28.63689\n",
      "1210: accuracy:0.96 loss: 16.899107\n",
      "1220: accuracy:0.89 loss: 43.53916\n",
      "1230: accuracy:0.92 loss: 26.376083\n",
      "1240: accuracy:0.91 loss: 40.318558\n",
      "1250: accuracy:0.92 loss: 29.24262\n",
      "1250: $$$$$$$$$$$$$$$$$$$$$$$$ test accuracy:0.9147 test loss: 29.383505\n",
      "1260: accuracy:0.91 loss: 26.095604\n",
      "1270: accuracy:0.88 loss: 31.342415\n",
      "1280: accuracy:0.97 loss: 18.138908\n",
      "1290: accuracy:0.93 loss: 24.093935\n",
      "1300: accuracy:0.87 loss: 38.03732\n",
      "1300: $$$$$$$$$$$$$$$$$$$$$$$$ test accuracy:0.9147 test loss: 29.690794\n",
      "1310: accuracy:0.92 loss: 38.978603\n",
      "1320: accuracy:0.93 loss: 30.187977\n",
      "1330: accuracy:0.92 loss: 30.699024\n",
      "1340: accuracy:0.93 loss: 26.129501\n",
      "1350: accuracy:0.9 loss: 26.260942\n",
      "1350: $$$$$$$$$$$$$$$$$$$$$$$$ test accuracy:0.9187 test loss: 28.224241\n",
      "1360: accuracy:0.92 loss: 19.971046\n",
      "1370: accuracy:0.92 loss: 28.429825\n",
      "1380: accuracy:0.94 loss: 25.57807\n",
      "1390: accuracy:0.96 loss: 20.736675\n",
      "1400: accuracy:0.95 loss: 20.812359\n",
      "1400: $$$$$$$$$$$$$$$$$$$$$$$$ test accuracy:0.9193 test loss: 28.435478\n",
      "1410: accuracy:0.95 loss: 21.247316\n",
      "1420: accuracy:0.93 loss: 24.1875\n",
      "1430: accuracy:0.89 loss: 32.51699\n",
      "1440: accuracy:0.91 loss: 34.5864\n",
      "1450: accuracy:0.93 loss: 28.611395\n",
      "1450: $$$$$$$$$$$$$$$$$$$$$$$$ test accuracy:0.9193 test loss: 28.561602\n",
      "1460: accuracy:0.92 loss: 20.87169\n",
      "1470: accuracy:0.92 loss: 31.836561\n",
      "1480: accuracy:0.92 loss: 31.71729\n",
      "1490: accuracy:0.95 loss: 24.95705\n",
      "1500: accuracy:0.91 loss: 37.224655\n",
      "1500: $$$$$$$$$$$$$$$$$$$$$$$$ test accuracy:0.9188 test loss: 28.715723\n",
      "1510: accuracy:0.91 loss: 26.81661\n",
      "1520: accuracy:0.97 loss: 19.066366\n",
      "1530: accuracy:0.91 loss: 32.563892\n",
      "1540: accuracy:0.94 loss: 35.68052\n",
      "1550: accuracy:0.92 loss: 29.09105\n",
      "1550: $$$$$$$$$$$$$$$$$$$$$$$$ test accuracy:0.9204 test loss: 27.820316\n",
      "1560: accuracy:0.94 loss: 29.861832\n",
      "1570: accuracy:0.91 loss: 25.277992\n",
      "1580: accuracy:0.91 loss: 20.06679\n",
      "1590: accuracy:0.94 loss: 30.396471\n",
      "1600: accuracy:0.93 loss: 23.975386\n",
      "1600: $$$$$$$$$$$$$$$$$$$$$$$$ test accuracy:0.917 test loss: 28.86565\n",
      "1610: accuracy:0.91 loss: 29.03301\n",
      "1620: accuracy:0.94 loss: 22.126026\n",
      "1630: accuracy:0.92 loss: 37.631966\n",
      "1640: accuracy:0.91 loss: 26.902496\n",
      "1650: accuracy:0.89 loss: 40.316208\n",
      "1650: $$$$$$$$$$$$$$$$$$$$$$$$ test accuracy:0.9165 test loss: 29.211267\n",
      "1660: accuracy:0.92 loss: 26.190475\n",
      "1670: accuracy:0.95 loss: 22.577026\n",
      "1680: accuracy:0.92 loss: 27.575666\n",
      "1690: accuracy:0.95 loss: 22.145254\n",
      "1700: accuracy:0.93 loss: 30.807909\n",
      "1700: $$$$$$$$$$$$$$$$$$$$$$$$ test accuracy:0.9205 test loss: 28.612524\n",
      "1710: accuracy:0.92 loss: 30.206528\n",
      "1720: accuracy:0.94 loss: 33.16532\n",
      "1730: accuracy:0.91 loss: 34.485954\n",
      "1740: accuracy:0.88 loss: 38.606102\n",
      "1750: accuracy:0.91 loss: 27.302738\n",
      "1750: $$$$$$$$$$$$$$$$$$$$$$$$ test accuracy:0.9215 test loss: 27.75442\n",
      "1760: accuracy:0.92 loss: 27.304554\n",
      "1770: accuracy:0.94 loss: 29.750275\n"
     ]
    },
    {
     "name": "stdout",
     "output_type": "stream",
     "text": [
      "1780: accuracy:0.9 loss: 29.541624\n",
      "1790: accuracy:0.92 loss: 34.42422\n",
      "1800: accuracy:0.92 loss: 28.952005\n",
      "1800: $$$$$$$$$$$$$$$$$$$$$$$$ test accuracy:0.9206 test loss: 28.68237\n",
      "1810: accuracy:0.94 loss: 22.223217\n",
      "1820: accuracy:0.92 loss: 18.924774\n",
      "1830: accuracy:0.94 loss: 17.040804\n",
      "1840: accuracy:0.89 loss: 29.300129\n",
      "1850: accuracy:0.94 loss: 26.908802\n",
      "1850: $$$$$$$$$$$$$$$$$$$$$$$$ test accuracy:0.9195 test loss: 28.454012\n",
      "1860: accuracy:0.92 loss: 21.995783\n",
      "1870: accuracy:0.93 loss: 21.566753\n",
      "1880: accuracy:0.96 loss: 36.49234\n",
      "1890: accuracy:0.95 loss: 21.377687\n",
      "1900: accuracy:0.93 loss: 29.208857\n",
      "1900: $$$$$$$$$$$$$$$$$$$$$$$$ test accuracy:0.9213 test loss: 28.04355\n",
      "1910: accuracy:0.93 loss: 31.672318\n",
      "1920: accuracy:0.96 loss: 14.404064\n",
      "1930: accuracy:0.92 loss: 39.406364\n",
      "1940: accuracy:0.91 loss: 20.703032\n",
      "1950: accuracy:0.89 loss: 35.34832\n",
      "1950: $$$$$$$$$$$$$$$$$$$$$$$$ test accuracy:0.9211 test loss: 28.671015\n",
      "1960: accuracy:0.91 loss: 29.120264\n",
      "1970: accuracy:0.9 loss: 33.74886\n",
      "1980: accuracy:0.92 loss: 23.317549\n",
      "1990: accuracy:0.92 loss: 24.710213\n",
      "2000: accuracy:0.93 loss: 27.267023\n",
      "2000: $$$$$$$$$$$$$$$$$$$$$$$$ test accuracy:0.9226 test loss: 27.950138\n"
     ]
    }
   ],
   "source": [
    "# run this thang\n",
    "for i in range(2000+1): \n",
    "    training_step(i)"
   ]
  },
  {
   "cell_type": "code",
   "execution_count": 32,
   "metadata": {},
   "outputs": [
    {
     "name": "stdout",
     "output_type": "stream",
     "text": [
      "max test accuracy: 0.9226\n"
     ]
    }
   ],
   "source": [
    "print(\"max test accuracy: \" + str(max_accuracy))"
   ]
  },
  {
   "cell_type": "code",
   "execution_count": 33,
   "metadata": {},
   "outputs": [
    {
     "data": {
      "image/png": "[encoded data removed]",
      "text/plain": [
       "<Figure size 432x288 with 1 Axes>"
      ]
     },
     "metadata": {
      "needs_background": "light"
     },
     "output_type": "display_data"
    }
   ],
   "source": [
    "train_loss_log = np.array(train_loss_log)\n",
    "test_loss_log = np.array(test_loss_log)\n",
    "\n",
    "plt.plot(train_loss_log[:,0],train_loss_log[:,1])\n",
    "plt.plot(test_loss_log[:,0],test_loss_log[:,1])\n",
    "plt.show()"
   ]
  },
  {
   "cell_type": "code",
   "execution_count": 34,
   "metadata": {},
   "outputs": [
    {
     "data": {
      "image/png": "[encoded data removed]",
      "text/plain": [
       "<Figure size 432x288 with 1 Axes>"
      ]
     },
     "metadata": {
      "needs_background": "light"
     },
     "output_type": "display_data"
    }
   ],
   "source": [
    "train_accuracy_log = np.array(train_accuracy_log)\n",
    "test_accuracy_log = np.array(test_accuracy_log)\n",
    "\n",
    "plt.plot(train_accuracy_log[:,0],train_accuracy_log[:,1])\n",
    "plt.plot(test_accuracy_log[:,0],test_accuracy_log[:,1])\n",
    "plt.show()"
   ]
  },
  {
   "cell_type": "code",
   "execution_count": null,
   "metadata": {},
   "outputs": [],
   "source": []
  }
 ],
 "metadata": {
  "kernelspec": {
   "display_name": "Python 3",
   "language": "python",
   "name": "python3"
  },
  "language_info": {
   "codemirror_mode": {
    "name": "ipython",
    "version": 3
   },
   "file_extension": ".py",
   "mimetype": "text/x-python",
   "name": "python",
   "nbconvert_exporter": "python",
   "pygments_lexer": "ipython3",
   "version": "3.6.6"
  }
 },
 "nbformat": 4,
 "nbformat_minor": 2
}
