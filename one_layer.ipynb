{
 "cells": [
  {
   "cell_type": "markdown",
   "metadata": {},
   "source": [
    "# MNIST Classification - Single Layer NN"
   ]
  },
  {
   "cell_type": "code",
   "execution_count": 1,
   "metadata": {},
   "outputs": [],
   "source": [
    "import tensorflow as tf\n",
    "from tensorflow.examples.tutorials.mnist import input_data as mnist_data\n",
    "import numpy as np\n",
    "from matplotlib import pyplot as plt\n",
    "tf.set_random_seed(0)"
   ]
  },
  {
   "cell_type": "code",
   "execution_count": 18,
   "metadata": {},
   "outputs": [
    {
     "name": "stdout",
     "output_type": "stream",
     "text": [
      "Extracting data\\train-images-idx3-ubyte.gz\n",
      "Extracting data\\train-labels-idx1-ubyte.gz\n",
      "Extracting data\\t10k-images-idx3-ubyte.gz\n",
      "Extracting data\\t10k-labels-idx1-ubyte.gz\n"
     ]
    }
   ],
   "source": [
    "# download train and test data (28x28 images of handwritten digits)\n",
    "mnist = mnist_data.read_data_sets(\"data\", one_hot=True, reshape=False, validation_size=0)"
   ]
  },
  {
   "cell_type": "code",
   "execution_count": 3,
   "metadata": {},
   "outputs": [],
   "source": [
    "# input X: 28x28 grayscale images, the first dimension (None) will index the images in the mini-batch\n",
    "X = tf.placeholder(tf.float32, [None, 28, 28, 1])\n",
    "# correct answers will go here\n",
    "Y_ = tf.placeholder(tf.float32, [None, 10])\n",
    "# weights W[784, 10]   784=28*28\n",
    "W = tf.Variable(tf.zeros([784, 10]))\n",
    "# biases b[10]\n",
    "b = tf.Variable(tf.zeros([10]))"
   ]
  },
  {
   "cell_type": "code",
   "execution_count": 4,
   "metadata": {},
   "outputs": [],
   "source": [
    "# flatten the images into a single line of pixels\n",
    "# -1 in the shape definition means \"the only possible dimension that will preserve the number of elements\"\n",
    "XX = tf.reshape(X, [-1, 784])"
   ]
  },
  {
   "cell_type": "code",
   "execution_count": 5,
   "metadata": {},
   "outputs": [],
   "source": [
    "# The model\n",
    "Y = tf.nn.softmax(tf.matmul(XX, W) + b)"
   ]
  },
  {
   "cell_type": "code",
   "execution_count": 6,
   "metadata": {},
   "outputs": [],
   "source": [
    "cross_entropy = -tf.reduce_mean(Y_ * tf.log(Y + 1e-10)) * 100 * 10"
   ]
  },
  {
   "cell_type": "code",
   "execution_count": 7,
   "metadata": {},
   "outputs": [],
   "source": [
    "# accuracy of the trained model, between 0 (worst) and 1 (best)\n",
    "correct_prediction = tf.equal(tf.argmax(Y, 1), tf.argmax(Y_, 1))\n",
    "accuracy = tf.reduce_mean(tf.cast(correct_prediction, tf.float32))"
   ]
  },
  {
   "cell_type": "code",
   "execution_count": 8,
   "metadata": {},
   "outputs": [],
   "source": [
    "# to keep track of max accuracy\n",
    "max_accuracy = 0.0"
   ]
  },
  {
   "cell_type": "code",
   "execution_count": 9,
   "metadata": {},
   "outputs": [],
   "source": [
    "# training, learning rate = 0.005\n",
    "train_step = tf.train.GradientDescentOptimizer(0.005).minimize(cross_entropy)"
   ]
  },
  {
   "cell_type": "code",
   "execution_count": 10,
   "metadata": {},
   "outputs": [],
   "source": [
    "# init\n",
    "init = tf.global_variables_initializer()\n",
    "sess = tf.Session()\n",
    "sess.run(init)\n",
    "\n",
    "train_loss_log = []\n",
    "test_loss_log = []\n",
    "train_accuracy_log = []\n",
    "test_accuracy_log = []"
   ]
  },
  {
   "cell_type": "code",
   "execution_count": 11,
   "metadata": {},
   "outputs": [],
   "source": [
    "# You can call this function in a loop to train the model, 100 images at a time\n",
    "def training_step(i):\n",
    "\n",
    "    global max_accuracy\n",
    "    # training on batches of 100 images with 100 labels\n",
    "    batch_X, batch_Y = mnist.train.next_batch(100)\n",
    "\n",
    "    # compute training values\n",
    "    if (i % 10 == 0):\n",
    "        a, c = sess.run([accuracy, cross_entropy], feed_dict={X: batch_X, Y_: batch_Y})\n",
    "        train_accuracy_log.append([i,a])\n",
    "        train_loss_log.append([i,c])        \n",
    "        print(str(i) + \": accuracy:\" + str(a) + \" loss: \" + str(c))\n",
    "\n",
    "    # compute test values\n",
    "    if (i % 50 == 0):\n",
    "        a, c = sess.run([accuracy, cross_entropy], feed_dict={X: mnist.test.images, Y_: mnist.test.labels})\n",
    "        test_accuracy_log.append([i,a])\n",
    "        test_loss_log.append([i,c])  \n",
    "        if (a > max_accuracy):\n",
    "            max_accuracy = a\n",
    "\n",
    "        print(str(i) + \": $$$$$$$$$$$$$$$$$$$$$$$$ test accuracy:\" + str(a) + \" test loss: \" + str(c))\n",
    "\n",
    "    # the backpropagation training step\n",
    "    sess.run(train_step, feed_dict={X: batch_X, Y_: batch_Y})"
   ]
  },
  {
   "cell_type": "code",
   "execution_count": 12,
   "metadata": {},
   "outputs": [
    {
     "name": "stdout",
     "output_type": "stream",
     "text": [
      "0: accuracy:0.12 loss: 230.25854\n",
      "0: $$$$$$$$$$$$$$$$$$$$$$$$ test accuracy:0.098 test loss: 230.25717\n",
      "10: accuracy:0.83 loss: 79.80014\n",
      "20: accuracy:0.78 loss: 67.31488\n",
      "30: accuracy:0.81 loss: 56.81697\n",
      "40: accuracy:0.86 loss: 46.953423\n",
      "50: accuracy:0.87 loss: 45.268208\n",
      "50: $$$$$$$$$$$$$$$$$$$$$$$$ test accuracy:0.8844 test loss: 43.806747\n",
      "60: accuracy:0.88 loss: 44.12021\n",
      "70: accuracy:0.87 loss: 51.11235\n",
      "80: accuracy:0.83 loss: 49.775974\n",
      "90: accuracy:0.89 loss: 46.423023\n",
      "100: accuracy:0.96 loss: 26.218225\n",
      "100: $$$$$$$$$$$$$$$$$$$$$$$$ test accuracy:0.8957 test loss: 38.269913\n",
      "110: accuracy:0.89 loss: 45.008812\n",
      "120: accuracy:0.87 loss: 56.37574\n",
      "130: accuracy:0.93 loss: 28.819359\n",
      "140: accuracy:0.92 loss: 33.3647\n",
      "150: accuracy:0.86 loss: 40.545464\n",
      "150: $$$$$$$$$$$$$$$$$$$$$$$$ test accuracy:0.897 test loss: 36.479393\n",
      "160: accuracy:0.91 loss: 31.417452\n",
      "170: accuracy:0.87 loss: 48.122215\n",
      "180: accuracy:0.91 loss: 43.438347\n",
      "190: accuracy:0.86 loss: 51.654755\n",
      "200: accuracy:0.91 loss: 43.56436\n",
      "200: $$$$$$$$$$$$$$$$$$$$$$$$ test accuracy:0.899 test loss: 35.580284\n",
      "210: accuracy:0.91 loss: 30.851377\n",
      "220: accuracy:0.91 loss: 37.509186\n",
      "230: accuracy:0.86 loss: 48.209396\n",
      "240: accuracy:0.88 loss: 36.87387\n",
      "250: accuracy:0.91 loss: 27.021156\n",
      "250: $$$$$$$$$$$$$$$$$$$$$$$$ test accuracy:0.9088 test loss: 32.334778\n",
      "260: accuracy:0.92 loss: 30.758982\n",
      "270: accuracy:0.83 loss: 54.55789\n",
      "280: accuracy:0.84 loss: 52.684395\n",
      "290: accuracy:0.88 loss: 29.50159\n",
      "300: accuracy:0.91 loss: 35.053925\n",
      "300: $$$$$$$$$$$$$$$$$$$$$$$$ test accuracy:0.908 test loss: 32.498516\n",
      "310: accuracy:0.92 loss: 34.59265\n",
      "320: accuracy:0.88 loss: 33.584236\n",
      "330: accuracy:0.92 loss: 33.920097\n",
      "340: accuracy:0.91 loss: 38.212616\n",
      "350: accuracy:0.96 loss: 18.170502\n",
      "350: $$$$$$$$$$$$$$$$$$$$$$$$ test accuracy:0.9098 test loss: 32.24332\n",
      "360: accuracy:0.97 loss: 18.401743\n",
      "370: accuracy:0.92 loss: 31.779263\n",
      "380: accuracy:0.94 loss: 26.715113\n",
      "390: accuracy:0.92 loss: 29.681488\n",
      "400: accuracy:0.88 loss: 40.7902\n",
      "400: $$$$$$$$$$$$$$$$$$$$$$$$ test accuracy:0.9062 test loss: 32.600945\n",
      "410: accuracy:0.9 loss: 36.756577\n",
      "420: accuracy:0.92 loss: 26.982262\n",
      "430: accuracy:0.9 loss: 31.105324\n",
      "440: accuracy:0.88 loss: 36.293602\n",
      "450: accuracy:0.92 loss: 43.6292\n",
      "450: $$$$$$$$$$$$$$$$$$$$$$$$ test accuracy:0.9109 test loss: 31.392284\n",
      "460: accuracy:0.95 loss: 20.40707\n",
      "470: accuracy:0.88 loss: 52.721992\n",
      "480: accuracy:0.92 loss: 31.64237\n",
      "490: accuracy:0.85 loss: 41.210995\n",
      "500: accuracy:0.95 loss: 22.038584\n",
      "500: $$$$$$$$$$$$$$$$$$$$$$$$ test accuracy:0.9085 test loss: 31.34815\n",
      "510: accuracy:0.91 loss: 30.678707\n",
      "520: accuracy:0.88 loss: 41.620167\n",
      "530: accuracy:0.93 loss: 26.995907\n",
      "540: accuracy:0.91 loss: 26.85161\n",
      "550: accuracy:0.92 loss: 23.268803\n",
      "550: $$$$$$$$$$$$$$$$$$$$$$$$ test accuracy:0.9121 test loss: 30.951426\n",
      "560: accuracy:0.96 loss: 19.482513\n",
      "570: accuracy:0.89 loss: 31.683512\n",
      "580: accuracy:0.89 loss: 33.918556\n",
      "590: accuracy:0.85 loss: 44.764984\n",
      "600: accuracy:0.92 loss: 33.613014\n",
      "600: $$$$$$$$$$$$$$$$$$$$$$$$ test accuracy:0.915 test loss: 30.518923\n",
      "610: accuracy:0.93 loss: 22.293522\n",
      "620: accuracy:0.89 loss: 31.618725\n",
      "630: accuracy:0.9 loss: 33.459267\n",
      "640: accuracy:0.91 loss: 24.668713\n",
      "650: accuracy:0.89 loss: 32.860134\n",
      "650: $$$$$$$$$$$$$$$$$$$$$$$$ test accuracy:0.9137 test loss: 30.686092\n",
      "660: accuracy:0.87 loss: 41.79633\n",
      "670: accuracy:0.93 loss: 20.472229\n",
      "680: accuracy:0.94 loss: 32.99726\n",
      "690: accuracy:0.89 loss: 34.093258\n",
      "700: accuracy:0.89 loss: 35.417297\n",
      "700: $$$$$$$$$$$$$$$$$$$$$$$$ test accuracy:0.9093 test loss: 32.07421\n",
      "710: accuracy:0.96 loss: 12.649841\n",
      "720: accuracy:0.9 loss: 31.839512\n",
      "730: accuracy:0.94 loss: 21.12711\n",
      "740: accuracy:0.89 loss: 32.45626\n",
      "750: accuracy:0.92 loss: 30.835625\n",
      "750: $$$$$$$$$$$$$$$$$$$$$$$$ test accuracy:0.9165 test loss: 29.974453\n",
      "760: accuracy:0.89 loss: 45.66101\n",
      "770: accuracy:0.93 loss: 23.61837\n",
      "780: accuracy:0.94 loss: 21.731785\n",
      "790: accuracy:0.86 loss: 43.512238\n",
      "800: accuracy:0.87 loss: 41.682484\n",
      "800: $$$$$$$$$$$$$$$$$$$$$$$$ test accuracy:0.9146 test loss: 29.557348\n",
      "810: accuracy:0.93 loss: 20.260895\n",
      "820: accuracy:0.92 loss: 25.149815\n",
      "830: accuracy:0.88 loss: 40.20742\n",
      "840: accuracy:0.93 loss: 37.550854\n",
      "850: accuracy:0.91 loss: 31.400051\n",
      "850: $$$$$$$$$$$$$$$$$$$$$$$$ test accuracy:0.9193 test loss: 29.35651\n",
      "860: accuracy:0.94 loss: 18.311464\n",
      "870: accuracy:0.91 loss: 28.543343\n",
      "880: accuracy:0.93 loss: 18.600288\n",
      "890: accuracy:0.92 loss: 30.51074\n",
      "900: accuracy:0.91 loss: 22.70161\n",
      "900: $$$$$$$$$$$$$$$$$$$$$$$$ test accuracy:0.9186 test loss: 29.079723\n",
      "910: accuracy:0.91 loss: 33.56093\n",
      "920: accuracy:0.93 loss: 26.225775\n",
      "930: accuracy:0.87 loss: 34.624046\n",
      "940: accuracy:0.89 loss: 36.588432\n",
      "950: accuracy:0.92 loss: 27.312832\n",
      "950: $$$$$$$$$$$$$$$$$$$$$$$$ test accuracy:0.9114 test loss: 30.757359\n",
      "960: accuracy:0.89 loss: 34.05624\n",
      "970: accuracy:0.91 loss: 33.77701\n",
      "980: accuracy:0.9 loss: 33.236248\n",
      "990: accuracy:0.94 loss: 15.83815\n",
      "1000: accuracy:0.95 loss: 18.593525\n",
      "1000: $$$$$$$$$$$$$$$$$$$$$$$$ test accuracy:0.9174 test loss: 29.289307\n",
      "1010: accuracy:0.94 loss: 31.304241\n",
      "1020: accuracy:0.91 loss: 27.964031\n",
      "1030: accuracy:0.95 loss: 23.7107\n",
      "1040: accuracy:0.86 loss: 38.142067\n",
      "1050: accuracy:0.91 loss: 41.09739\n",
      "1050: $$$$$$$$$$$$$$$$$$$$$$$$ test accuracy:0.9185 test loss: 28.748816\n",
      "1060: accuracy:0.95 loss: 17.06424\n",
      "1070: accuracy:0.9 loss: 38.996155\n",
      "1080: accuracy:0.84 loss: 56.61283\n",
      "1090: accuracy:0.93 loss: 26.788105\n",
      "1100: accuracy:0.91 loss: 25.23835\n",
      "1100: $$$$$$$$$$$$$$$$$$$$$$$$ test accuracy:0.9201 test loss: 28.445755\n",
      "1110: accuracy:0.89 loss: 44.857563\n",
      "1120: accuracy:0.9 loss: 31.931005\n",
      "1130: accuracy:0.95 loss: 12.163729\n",
      "1140: accuracy:0.87 loss: 39.353027\n",
      "1150: accuracy:0.91 loss: 27.694117\n",
      "1150: $$$$$$$$$$$$$$$$$$$$$$$$ test accuracy:0.9215 test loss: 28.724892\n",
      "1160: accuracy:0.97 loss: 21.496668\n",
      "1170: accuracy:0.92 loss: 28.06372\n",
      "1180: accuracy:0.94 loss: 20.26889\n",
      "1190: accuracy:0.91 loss: 31.40286\n",
      "1200: accuracy:0.97 loss: 15.859055\n",
      "1200: $$$$$$$$$$$$$$$$$$$$$$$$ test accuracy:0.9201 test loss: 28.636866\n",
      "1210: accuracy:0.96 loss: 16.899197\n",
      "1220: accuracy:0.89 loss: 43.53915\n",
      "1230: accuracy:0.92 loss: 26.376068\n",
      "1240: accuracy:0.91 loss: 40.31873\n",
      "1250: accuracy:0.92 loss: 29.242687\n",
      "1250: $$$$$$$$$$$$$$$$$$$$$$$$ test accuracy:0.9147 test loss: 29.38352\n",
      "1260: accuracy:0.91 loss: 26.09552\n",
      "1270: accuracy:0.88 loss: 31.34241\n",
      "1280: accuracy:0.97 loss: 18.138603\n",
      "1290: accuracy:0.93 loss: 24.093914\n",
      "1300: accuracy:0.87 loss: 38.03786\n",
      "1300: $$$$$$$$$$$$$$$$$$$$$$$$ test accuracy:0.9147 test loss: 29.69083\n",
      "1310: accuracy:0.92 loss: 38.97857\n",
      "1320: accuracy:0.93 loss: 30.187733\n",
      "1330: accuracy:0.92 loss: 30.69901\n",
      "1340: accuracy:0.93 loss: 26.130157\n",
      "1350: accuracy:0.9 loss: 26.26126\n",
      "1350: $$$$$$$$$$$$$$$$$$$$$$$$ test accuracy:0.9187 test loss: 28.224104\n",
      "1360: accuracy:0.92 loss: 19.971397\n",
      "1370: accuracy:0.92 loss: 28.429853\n",
      "1380: accuracy:0.94 loss: 25.57808\n",
      "1390: accuracy:0.96 loss: 20.736917\n",
      "1400: accuracy:0.95 loss: 20.812387\n",
      "1400: $$$$$$$$$$$$$$$$$$$$$$$$ test accuracy:0.9194 test loss: 28.435461\n",
      "1410: accuracy:0.95 loss: 21.24702\n",
      "1420: accuracy:0.93 loss: 24.187319\n",
      "1430: accuracy:0.89 loss: 32.515446\n",
      "1440: accuracy:0.91 loss: 34.585846\n",
      "1450: accuracy:0.93 loss: 28.611458\n",
      "1450: $$$$$$$$$$$$$$$$$$$$$$$$ test accuracy:0.9193 test loss: 28.561512\n",
      "1460: accuracy:0.92 loss: 20.871878\n",
      "1470: accuracy:0.92 loss: 31.836626\n",
      "1480: accuracy:0.92 loss: 31.71762\n",
      "1490: accuracy:0.95 loss: 24.956573\n",
      "1500: accuracy:0.91 loss: 37.224777\n",
      "1500: $$$$$$$$$$$$$$$$$$$$$$$$ test accuracy:0.9188 test loss: 28.715664\n",
      "1510: accuracy:0.91 loss: 26.816498\n",
      "1520: accuracy:0.97 loss: 19.066387\n",
      "1530: accuracy:0.91 loss: 32.56298\n",
      "1540: accuracy:0.94 loss: 35.68035\n",
      "1550: accuracy:0.92 loss: 29.090986\n",
      "1550: $$$$$$$$$$$$$$$$$$$$$$$$ test accuracy:0.9205 test loss: 27.820278\n",
      "1560: accuracy:0.94 loss: 29.862381\n",
      "1570: accuracy:0.91 loss: 25.278019\n",
      "1580: accuracy:0.91 loss: 20.06667\n",
      "1590: accuracy:0.94 loss: 30.396786\n",
      "1600: accuracy:0.93 loss: 23.975132\n",
      "1600: $$$$$$$$$$$$$$$$$$$$$$$$ test accuracy:0.917 test loss: 28.865622\n",
      "1610: accuracy:0.91 loss: 29.033142\n",
      "1620: accuracy:0.94 loss: 22.125786\n",
      "1630: accuracy:0.92 loss: 37.63206\n",
      "1640: accuracy:0.91 loss: 26.90213\n",
      "1650: accuracy:0.89 loss: 40.316532\n",
      "1650: $$$$$$$$$$$$$$$$$$$$$$$$ test accuracy:0.9165 test loss: 29.211191\n",
      "1660: accuracy:0.92 loss: 26.190105\n",
      "1670: accuracy:0.95 loss: 22.576834\n"
     ]
    },
    {
     "name": "stdout",
     "output_type": "stream",
     "text": [
      "1680: accuracy:0.92 loss: 27.575682\n",
      "1690: accuracy:0.95 loss: 22.14539\n",
      "1700: accuracy:0.93 loss: 30.808266\n",
      "1700: $$$$$$$$$$$$$$$$$$$$$$$$ test accuracy:0.9205 test loss: 28.612486\n",
      "1710: accuracy:0.92 loss: 30.206764\n",
      "1720: accuracy:0.94 loss: 33.165276\n",
      "1730: accuracy:0.91 loss: 34.48611\n",
      "1740: accuracy:0.88 loss: 38.60608\n",
      "1750: accuracy:0.91 loss: 27.302567\n",
      "1750: $$$$$$$$$$$$$$$$$$$$$$$$ test accuracy:0.9215 test loss: 27.754377\n",
      "1760: accuracy:0.92 loss: 27.304613\n",
      "1770: accuracy:0.94 loss: 29.750244\n",
      "1780: accuracy:0.9 loss: 29.55449\n",
      "1790: accuracy:0.92 loss: 34.42363\n",
      "1800: accuracy:0.92 loss: 28.952272\n",
      "1800: $$$$$$$$$$$$$$$$$$$$$$$$ test accuracy:0.9206 test loss: 28.682657\n",
      "1810: accuracy:0.94 loss: 22.22343\n",
      "1820: accuracy:0.92 loss: 18.92113\n",
      "1830: accuracy:0.94 loss: 17.040419\n",
      "1840: accuracy:0.89 loss: 29.29973\n",
      "1850: accuracy:0.94 loss: 26.908993\n",
      "1850: $$$$$$$$$$$$$$$$$$$$$$$$ test accuracy:0.9195 test loss: 28.454655\n",
      "1860: accuracy:0.92 loss: 21.995338\n",
      "1870: accuracy:0.93 loss: 21.56645\n",
      "1880: accuracy:0.96 loss: 36.49083\n",
      "1890: accuracy:0.95 loss: 21.376072\n",
      "1900: accuracy:0.93 loss: 29.209425\n",
      "1900: $$$$$$$$$$$$$$$$$$$$$$$$ test accuracy:0.9212 test loss: 28.04407\n",
      "1910: accuracy:0.93 loss: 31.670835\n",
      "1920: accuracy:0.96 loss: 14.404762\n",
      "1930: accuracy:0.92 loss: 39.406956\n",
      "1940: accuracy:0.91 loss: 20.700161\n",
      "1950: accuracy:0.89 loss: 35.350174\n",
      "1950: $$$$$$$$$$$$$$$$$$$$$$$$ test accuracy:0.9211 test loss: 28.67137\n",
      "1960: accuracy:0.91 loss: 29.11914\n",
      "1970: accuracy:0.9 loss: 33.748707\n",
      "1980: accuracy:0.92 loss: 23.317083\n",
      "1990: accuracy:0.92 loss: 24.709667\n",
      "2000: accuracy:0.93 loss: 27.266644\n",
      "2000: $$$$$$$$$$$$$$$$$$$$$$$$ test accuracy:0.9226 test loss: 27.950548\n"
     ]
    }
   ],
   "source": [
    "# run this thang\n",
    "for i in range(2000+1): \n",
    "    training_step(i)"
   ]
  },
  {
   "cell_type": "code",
   "execution_count": 13,
   "metadata": {},
   "outputs": [
    {
     "name": "stdout",
     "output_type": "stream",
     "text": [
      "max test accuracy: 0.9226\n"
     ]
    }
   ],
   "source": [
    "print(\"max test accuracy: \" + str(max_accuracy))"
   ]
  },
  {
   "cell_type": "code",
   "execution_count": 14,
   "metadata": {},
   "outputs": [
    {
     "data": {
      "image/png": "[encoded data removed]",
      "text/plain": [
       "<Figure size 432x288 with 1 Axes>"
      ]
     },
     "metadata": {
      "needs_background": "light"
     },
     "output_type": "display_data"
    }
   ],
   "source": [
    "train_loss_log = np.array(train_loss_log)\n",
    "test_loss_log = np.array(test_loss_log)\n",
    "\n",
    "plt.plot(train_loss_log[:,0],train_loss_log[:,1])\n",
    "plt.plot(test_loss_log[:,0],test_loss_log[:,1])\n",
    "plt.show()"
   ]
  },
  {
   "cell_type": "code",
   "execution_count": 15,
   "metadata": {},
   "outputs": [
    {
     "data": {
      "image/png": "[encoded data removed]",
      "text/plain": [
       "<Figure size 432x288 with 1 Axes>"
      ]
     },
     "metadata": {
      "needs_background": "light"
     },
     "output_type": "display_data"
    }
   ],
   "source": [
    "train_accuracy_log = np.array(train_accuracy_log)\n",
    "test_accuracy_log = np.array(test_accuracy_log)\n",
    "\n",
    "plt.plot(train_accuracy_log[:,0],train_accuracy_log[:,1])\n",
    "plt.plot(test_accuracy_log[:,0],test_accuracy_log[:,1])\n",
    "plt.show()"
   ]
  },
  {
   "cell_type": "code",
   "execution_count": null,
   "metadata": {},
   "outputs": [],
   "source": []
  }
 ],
 "metadata": {
  "kernelspec": {
   "display_name": "Python 3",
   "language": "python",
   "name": "python3"
  },
  "language_info": {
   "codemirror_mode": {
    "name": "ipython",
    "version": 3
   },
   "file_extension": ".py",
   "mimetype": "text/x-python",
   "name": "python",
   "nbconvert_exporter": "python",
   "pygments_lexer": "ipython3",
   "version": "3.6.6"
  }
 },
 "nbformat": 4,
 "nbformat_minor": 2
}
